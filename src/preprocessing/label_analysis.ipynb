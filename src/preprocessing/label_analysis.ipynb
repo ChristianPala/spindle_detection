{
 "cells": [
  {
   "cell_type": "code",
   "execution_count": 136,
   "metadata": {
    "collapsed": true
   },
   "outputs": [],
   "source": [
    "import os\n",
    "import pandas as pd\n",
    "import matplotlib.pyplot as plt\n",
    "import seaborn as sns\n",
    "import numpy as np\n",
    "from config import DATA"
   ]
  },
  {
   "cell_type": "code",
   "execution_count": 137,
   "outputs": [],
   "source": [
    "X = pd.read_csv( os.path.join( DATA, 'features.csv'))"
   ],
   "metadata": {
    "collapsed": false
   }
  },
  {
   "cell_type": "code",
   "execution_count": 138,
   "outputs": [
    {
     "data": {
      "text/plain": "       Unnamed: 0.6  Unnamed: 0.5  Unnamed: 0.4  Unnamed: 0.3  Unnamed: 0.2   \n0                 0             0             0             0             0  \\\n1                 1             1             1             1             1   \n2                 2             2             2             2             2   \n3                 3             3             3             3             3   \n4                 4             4             4             4             4   \n...             ...           ...           ...           ...           ...   \n28795         28795         28795         28795         28795         28795   \n28796         28796         28796         28796         28796         28796   \n28797         28797         28797         28797         28797         28797   \n28798         28798         28798         28798         28798         28798   \n28799         28799         28799         28799         28799         28799   \n\n       Unnamed: 0.1  Unnamed: 0  spindle  patient_id  \n0                 0           0        0           1  \n1                 1           1        0           1  \n2                 2           2        0           1  \n3                 3           3        0           1  \n4                 4           4        0           1  \n...             ...         ...      ...         ...  \n28795         28795       28795        0           8  \n28796         28796       28796        0           8  \n28797         28797       28797        0           8  \n28798         28798       28798        0           8  \n28799         28799       28799        0           8  \n\n[28800 rows x 9 columns]",
      "text/html": "<div>\n<style scoped>\n    .dataframe tbody tr th:only-of-type {\n        vertical-align: middle;\n    }\n\n    .dataframe tbody tr th {\n        vertical-align: top;\n    }\n\n    .dataframe thead th {\n        text-align: right;\n    }\n</style>\n<table border=\"1\" class=\"dataframe\">\n  <thead>\n    <tr style=\"text-align: right;\">\n      <th></th>\n      <th>Unnamed: 0.6</th>\n      <th>Unnamed: 0.5</th>\n      <th>Unnamed: 0.4</th>\n      <th>Unnamed: 0.3</th>\n      <th>Unnamed: 0.2</th>\n      <th>Unnamed: 0.1</th>\n      <th>Unnamed: 0</th>\n      <th>spindle</th>\n      <th>patient_id</th>\n    </tr>\n  </thead>\n  <tbody>\n    <tr>\n      <th>0</th>\n      <td>0</td>\n      <td>0</td>\n      <td>0</td>\n      <td>0</td>\n      <td>0</td>\n      <td>0</td>\n      <td>0</td>\n      <td>0</td>\n      <td>1</td>\n    </tr>\n    <tr>\n      <th>1</th>\n      <td>1</td>\n      <td>1</td>\n      <td>1</td>\n      <td>1</td>\n      <td>1</td>\n      <td>1</td>\n      <td>1</td>\n      <td>0</td>\n      <td>1</td>\n    </tr>\n    <tr>\n      <th>2</th>\n      <td>2</td>\n      <td>2</td>\n      <td>2</td>\n      <td>2</td>\n      <td>2</td>\n      <td>2</td>\n      <td>2</td>\n      <td>0</td>\n      <td>1</td>\n    </tr>\n    <tr>\n      <th>3</th>\n      <td>3</td>\n      <td>3</td>\n      <td>3</td>\n      <td>3</td>\n      <td>3</td>\n      <td>3</td>\n      <td>3</td>\n      <td>0</td>\n      <td>1</td>\n    </tr>\n    <tr>\n      <th>4</th>\n      <td>4</td>\n      <td>4</td>\n      <td>4</td>\n      <td>4</td>\n      <td>4</td>\n      <td>4</td>\n      <td>4</td>\n      <td>0</td>\n      <td>1</td>\n    </tr>\n    <tr>\n      <th>...</th>\n      <td>...</td>\n      <td>...</td>\n      <td>...</td>\n      <td>...</td>\n      <td>...</td>\n      <td>...</td>\n      <td>...</td>\n      <td>...</td>\n      <td>...</td>\n    </tr>\n    <tr>\n      <th>28795</th>\n      <td>28795</td>\n      <td>28795</td>\n      <td>28795</td>\n      <td>28795</td>\n      <td>28795</td>\n      <td>28795</td>\n      <td>28795</td>\n      <td>0</td>\n      <td>8</td>\n    </tr>\n    <tr>\n      <th>28796</th>\n      <td>28796</td>\n      <td>28796</td>\n      <td>28796</td>\n      <td>28796</td>\n      <td>28796</td>\n      <td>28796</td>\n      <td>28796</td>\n      <td>0</td>\n      <td>8</td>\n    </tr>\n    <tr>\n      <th>28797</th>\n      <td>28797</td>\n      <td>28797</td>\n      <td>28797</td>\n      <td>28797</td>\n      <td>28797</td>\n      <td>28797</td>\n      <td>28797</td>\n      <td>0</td>\n      <td>8</td>\n    </tr>\n    <tr>\n      <th>28798</th>\n      <td>28798</td>\n      <td>28798</td>\n      <td>28798</td>\n      <td>28798</td>\n      <td>28798</td>\n      <td>28798</td>\n      <td>28798</td>\n      <td>0</td>\n      <td>8</td>\n    </tr>\n    <tr>\n      <th>28799</th>\n      <td>28799</td>\n      <td>28799</td>\n      <td>28799</td>\n      <td>28799</td>\n      <td>28799</td>\n      <td>28799</td>\n      <td>28799</td>\n      <td>0</td>\n      <td>8</td>\n    </tr>\n  </tbody>\n</table>\n<p>28800 rows × 9 columns</p>\n</div>"
     },
     "execution_count": 138,
     "metadata": {},
     "output_type": "execute_result"
    }
   ],
   "source": [
    "y_experts = pd.read_csv( os.path.join( DATA, 'target.csv' ))\n",
    "y_experts"
   ],
   "metadata": {
    "collapsed": false
   }
  },
  {
   "cell_type": "markdown",
   "source": [
    "Add the patient id to the labels by matching rows with the features"
   ],
   "metadata": {
    "collapsed": false
   }
  },
  {
   "cell_type": "code",
   "execution_count": 139,
   "outputs": [],
   "source": [
    "y_experts['patient_id'] = X['patient_id'].reset_index(drop=True)"
   ],
   "metadata": {
    "collapsed": false
   }
  },
  {
   "cell_type": "code",
   "execution_count": 140,
   "outputs": [
    {
     "data": {
      "text/plain": "spindle\n0.0        28635\n1.0          165\nName: count, dtype: int64"
     },
     "execution_count": 140,
     "metadata": {},
     "output_type": "execute_result"
    }
   ],
   "source": [
    "y_yasa = pd.read_csv( os.path.join( DATA, 'yasa_labels.csv' ) , index_col=0)\n",
    "y_yasa.value_counts()"
   ],
   "metadata": {
    "collapsed": false
   }
  },
  {
   "cell_type": "markdown",
   "source": [
    "### Compare the two labels"
   ],
   "metadata": {
    "collapsed": false
   }
  },
  {
   "cell_type": "code",
   "execution_count": 141,
   "outputs": [
    {
     "data": {
      "text/plain": "spindle\n0    26155\n1     2645\nName: count, dtype: int64"
     },
     "execution_count": 141,
     "metadata": {},
     "output_type": "execute_result"
    }
   ],
   "source": [
    "y_experts['spindle'].value_counts()"
   ],
   "metadata": {
    "collapsed": false
   }
  },
  {
   "cell_type": "code",
   "execution_count": 142,
   "outputs": [
    {
     "data": {
      "text/plain": "spindle\n0.0    28635\n1.0      165\nName: count, dtype: int64"
     },
     "execution_count": 142,
     "metadata": {},
     "output_type": "execute_result"
    }
   ],
   "source": [
    "y_yasa['spindle'].value_counts()"
   ],
   "metadata": {
    "collapsed": false
   }
  },
  {
   "cell_type": "markdown",
   "source": [
    "Plot the number of spindles for each patient with yasa"
   ],
   "metadata": {
    "collapsed": false
   }
  },
  {
   "cell_type": "code",
   "execution_count": 143,
   "outputs": [
    {
     "data": {
      "text/plain": "            spindle\npatient_id         \n1               0.0\n1               0.0\n1               0.0\n1               0.0\n1               0.0",
      "text/html": "<div>\n<style scoped>\n    .dataframe tbody tr th:only-of-type {\n        vertical-align: middle;\n    }\n\n    .dataframe tbody tr th {\n        vertical-align: top;\n    }\n\n    .dataframe thead th {\n        text-align: right;\n    }\n</style>\n<table border=\"1\" class=\"dataframe\">\n  <thead>\n    <tr style=\"text-align: right;\">\n      <th></th>\n      <th>spindle</th>\n    </tr>\n    <tr>\n      <th>patient_id</th>\n      <th></th>\n    </tr>\n  </thead>\n  <tbody>\n    <tr>\n      <th>1</th>\n      <td>0.0</td>\n    </tr>\n    <tr>\n      <th>1</th>\n      <td>0.0</td>\n    </tr>\n    <tr>\n      <th>1</th>\n      <td>0.0</td>\n    </tr>\n    <tr>\n      <th>1</th>\n      <td>0.0</td>\n    </tr>\n    <tr>\n      <th>1</th>\n      <td>0.0</td>\n    </tr>\n  </tbody>\n</table>\n</div>"
     },
     "execution_count": 143,
     "metadata": {},
     "output_type": "execute_result"
    }
   ],
   "source": [
    "y_yasa.head()"
   ],
   "metadata": {
    "collapsed": false
   }
  },
  {
   "cell_type": "code",
   "execution_count": 144,
   "outputs": [
    {
     "data": {
      "text/plain": "<Figure size 1000x500 with 1 Axes>",
      "image/png": "[encoded data removed]"
     },
     "metadata": {},
     "output_type": "display_data"
    }
   ],
   "source": [
    "yasa_counts = y_yasa.groupby('patient_id')['spindle'].sum()\n",
    "expert_counts = y_experts.groupby('patient_id')['spindle'].sum()\n",
    "plt.figure(figsize=(10,5))\n",
    "sns.barplot(x=yasa_counts.index, y=yasa_counts.values, color='blue', label='yasa')\n",
    "# superimpose the expert counts\n",
    "plt.bar(x=expert_counts.index-1, height=expert_counts.values, color='orange', alpha=0.5, label='expert')\n",
    "plt.title('Number of spindles per patient')\n",
    "plt.xlabel('Patient')\n",
    "plt.ylabel('Number of spindles')\n",
    "plt.legend()\n",
    "plt.show()"
   ],
   "metadata": {
    "collapsed": false
   }
  },
  {
   "cell_type": "markdown",
   "source": [
    "Yasa finds a lot less spindles than the experts and the provided automatic detection.\n",
    "We check the overlap between the two labels."
   ],
   "metadata": {
    "collapsed": false
   }
  },
  {
   "cell_type": "code",
   "execution_count": 145,
   "outputs": [
    {
     "name": "stdout",
     "output_type": "stream",
     "text": [
      "Number of overlapping positive indices: 165\n"
     ]
    }
   ],
   "source": [
    "# Assume list1 and list2 are your binary lists\n",
    "list1 = y_experts['spindle'].values\n",
    "list2 = y_yasa['spindle'].values\n",
    "\n",
    "# Get the indices where both lists are 1\n",
    "overlap_indices = np.where((list1 == 1) & (list2 == 1))\n",
    "\n",
    "# Count the number of overlapping positive indices\n",
    "num_overlap = len(overlap_indices[0])\n",
    "\n",
    "print(\"Number of overlapping positive indices:\", num_overlap)"
   ],
   "metadata": {
    "collapsed": false
   }
  },
  {
   "cell_type": "markdown",
   "source": [
    "Most of the spindles found by yasa are also found by the experts, since we are following the paper and using the union of the expert labels, we can add the 15 spindles found by yasa to the expert labels, our target are the possible spindles."
   ],
   "metadata": {
    "collapsed": false
   }
  },
  {
   "cell_type": "code",
   "execution_count": 146,
   "outputs": [
    {
     "data": {
      "text/plain": "spindle\n0    26155\n1     2645\nName: count, dtype: int64"
     },
     "execution_count": 146,
     "metadata": {},
     "output_type": "execute_result"
    }
   ],
   "source": [
    "y_experts = y_experts.reset_index(drop=True)\n",
    "y_yasa = y_yasa.reset_index(drop=True)\n",
    "y_experts['spindle'] = y_experts['spindle'] + y_yasa['spindle']\n",
    "# normalize the labels at 1\n",
    "y_experts['spindle'] = y_experts['spindle'].apply(lambda x: 1 if x > 0 else 0)\n",
    "y_experts['spindle'].value_counts()"
   ],
   "metadata": {
    "collapsed": false
   }
  },
  {
   "cell_type": "code",
   "execution_count": 147,
   "outputs": [],
   "source": [
    "y_experts.to_csv(os.path.join(DATA, 'target.csv'))"
   ],
   "metadata": {
    "collapsed": false
   }
  },
  {
   "cell_type": "markdown",
   "source": [],
   "metadata": {
    "collapsed": false
   }
  }
 ],
 "metadata": {
  "kernelspec": {
   "display_name": "Python 3",
   "language": "python",
   "name": "python3"
  },
  "language_info": {
   "codemirror_mode": {
    "name": "ipython",
    "version": 2
   },
   "file_extension": ".py",
   "mimetype": "text/x-python",
   "name": "python",
   "nbconvert_exporter": "python",
   "pygments_lexer": "ipython2",
   "version": "2.7.6"
  }
 },
 "nbformat": 4,
 "nbformat_minor": 0
}
